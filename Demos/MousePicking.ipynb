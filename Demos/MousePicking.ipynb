{
 "cells": [
  {
   "cell_type": "code",
   "execution_count": 1,
   "metadata": {
    "collapsed": false
   },
   "outputs": [
    {
     "data": {
      "application/javascript": [
       "require.undef(\"nbextensions/vpython_libraries/jquery-ui.custom.min\");"
      ],
      "text/plain": [
       "<IPython.core.display.Javascript object>"
      ]
     },
     "metadata": {},
     "output_type": "display_data"
    },
    {
     "data": {
      "application/javascript": [
       "require.undef(\"nbextensions/vpython_libraries/glow.2.1.min\");"
      ],
      "text/plain": [
       "<IPython.core.display.Javascript object>"
      ]
     },
     "metadata": {},
     "output_type": "display_data"
    },
    {
     "data": {
      "application/javascript": [
       "require.undef(\"nbextensions/vpython_libraries/glowcomm\");"
      ],
      "text/plain": [
       "<IPython.core.display.Javascript object>"
      ]
     },
     "metadata": {},
     "output_type": "display_data"
    },
    {
     "data": {
      "application/javascript": [
       "require([\"nbextensions/vpython_libraries/jquery-ui.custom.min\"], function(){console.log(\"JQUERY LOADED\");})"
      ],
      "text/plain": [
       "<IPython.core.display.Javascript object>"
      ]
     },
     "metadata": {},
     "output_type": "display_data"
    },
    {
     "data": {
      "application/javascript": [
       "require([\"nbextensions/vpython_libraries/glow.2.1.min\"], function(){console.log(\"GLOW LOADED\");})"
      ],
      "text/plain": [
       "<IPython.core.display.Javascript object>"
      ]
     },
     "metadata": {},
     "output_type": "display_data"
    },
    {
     "data": {
      "application/javascript": [
       "require([\"nbextensions/vpython_libraries/glowcomm\"], function(){console.log(\"GLOWCOMM LOADED\");})"
      ],
      "text/plain": [
       "<IPython.core.display.Javascript object>"
      ]
     },
     "metadata": {},
     "output_type": "display_data"
    },
    {
     "data": {
      "text/html": [
       "<div id=\"glowscript\" class=\"glowscript\"></div>"
      ],
      "text/plain": [
       "<IPython.core.display.HTML object>"
      ]
     },
     "metadata": {},
     "output_type": "display_data"
    },
    {
     "data": {
      "application/javascript": [
       "window.__context = { glowscript_container: $(\"#glowscript\").removeAttr(\"id\")}"
      ],
      "text/plain": [
       "<IPython.core.display.Javascript object>"
      ]
     },
     "metadata": {},
     "output_type": "display_data"
    },
    {
     "ename": "NameError",
     "evalue": "The extrusion object is not yet available in Jupyter VPython.",
     "output_type": "error",
     "traceback": [
      "\u001b[1;31m---------------------------------------------------------------------------\u001b[0m",
      "\u001b[1;31mNameError\u001b[0m                                 Traceback (most recent call last)",
      "\u001b[1;32m<ipython-input-1-b26d2a536f0c>\u001b[0m in \u001b[0;36m<module>\u001b[1;34m()\u001b[0m\n\u001b[0;32m     24\u001b[0m \u001b[0mring\u001b[0m\u001b[1;33m(\u001b[0m\u001b[0mpos\u001b[0m\u001b[1;33m=\u001b[0m\u001b[0mvector\u001b[0m\u001b[1;33m(\u001b[0m\u001b[1;33m-\u001b[0m\u001b[1;36m0.6\u001b[0m\u001b[1;33m,\u001b[0m\u001b[1;33m-\u001b[0m\u001b[1;36m1.3\u001b[0m\u001b[1;33m,\u001b[0m\u001b[1;36m0\u001b[0m\u001b[1;33m)\u001b[0m\u001b[1;33m,\u001b[0m \u001b[0msize\u001b[0m\u001b[1;33m=\u001b[0m\u001b[0mvector\u001b[0m\u001b[1;33m(\u001b[0m\u001b[1;36m0.2\u001b[0m\u001b[1;33m,\u001b[0m\u001b[1;36m1\u001b[0m\u001b[1;33m,\u001b[0m\u001b[1;36m1\u001b[0m\u001b[1;33m)\u001b[0m\u001b[1;33m,\u001b[0m \u001b[0mcolor\u001b[0m\u001b[1;33m=\u001b[0m\u001b[0mcolor\u001b[0m\u001b[1;33m.\u001b[0m\u001b[0mgreen\u001b[0m\u001b[1;33m)\u001b[0m\u001b[1;33m\u001b[0m\u001b[0m\n\u001b[0;32m     25\u001b[0m extrusion(pos=[vector(-1.8,-1.3,0.3), vector(-1.8,-1.3,-0.3)], \n\u001b[1;32m---> 26\u001b[1;33m             shape=[shapes.circle(radius=0.4), shapes.circle(radius=0.3)], color=color.yellow)\n\u001b[0m\u001b[0;32m     27\u001b[0m \u001b[1;33m\u001b[0m\u001b[0m\n\u001b[0;32m     28\u001b[0m \u001b[0mlasthit\u001b[0m \u001b[1;33m=\u001b[0m \u001b[1;32mNone\u001b[0m\u001b[1;33m\u001b[0m\u001b[0m\n",
      "\u001b[1;32mC:\\Anaconda3\\lib\\site-packages\\vpython\\vpython.py\u001b[0m in \u001b[0;36m__init__\u001b[1;34m(self, **args)\u001b[0m\n\u001b[0;32m   3320\u001b[0m \u001b[1;32mclass\u001b[0m \u001b[0mextrusion\u001b[0m\u001b[1;33m(\u001b[0m\u001b[0mstandardAttributes\u001b[0m\u001b[1;33m)\u001b[0m\u001b[1;33m:\u001b[0m\u001b[1;33m\u001b[0m\u001b[0m\n\u001b[0;32m   3321\u001b[0m     \u001b[1;32mdef\u001b[0m \u001b[0m__init__\u001b[0m\u001b[1;33m(\u001b[0m\u001b[0mself\u001b[0m\u001b[1;33m,\u001b[0m \u001b[1;33m**\u001b[0m\u001b[0margs\u001b[0m\u001b[1;33m)\u001b[0m\u001b[1;33m:\u001b[0m\u001b[1;33m\u001b[0m\u001b[0m\n\u001b[1;32m-> 3322\u001b[1;33m         \u001b[1;32mraise\u001b[0m \u001b[0mNameError\u001b[0m\u001b[1;33m(\u001b[0m\u001b[1;34m\"The extrusion object is not yet available in Jupyter VPython.\"\u001b[0m\u001b[1;33m)\u001b[0m\u001b[1;33m\u001b[0m\u001b[0m\n\u001b[0m\u001b[0;32m   3323\u001b[0m         \u001b[0margs\u001b[0m\u001b[1;33m[\u001b[0m\u001b[1;34m'_default_size'\u001b[0m\u001b[1;33m]\u001b[0m \u001b[1;33m=\u001b[0m \u001b[0mvector\u001b[0m\u001b[1;33m(\u001b[0m\u001b[1;36m1\u001b[0m\u001b[1;33m,\u001b[0m\u001b[1;36m1\u001b[0m\u001b[1;33m,\u001b[0m\u001b[1;36m1\u001b[0m\u001b[1;33m)\u001b[0m\u001b[1;33m\u001b[0m\u001b[0m\n\u001b[0;32m   3324\u001b[0m         \u001b[0margs\u001b[0m\u001b[1;33m[\u001b[0m\u001b[1;34m'_objName'\u001b[0m\u001b[1;33m]\u001b[0m \u001b[1;33m=\u001b[0m \u001b[1;34m\"extrusion\"\u001b[0m\u001b[1;33m\u001b[0m\u001b[0m\n",
      "\u001b[1;31mNameError\u001b[0m: The extrusion object is not yet available in Jupyter VPython."
     ]
    }
   ],
   "source": [
    "from vpython import *\n",
    "scene.width = 500\n",
    "scene.height = 400\n",
    "scene.background = color.gray(0.8)\n",
    "scene.range = 2.2\n",
    "scene.caption = \"Click to pick an object and make it red.\"\n",
    "scene.append_to_caption(\"\\nNote picking of individual curve segments.\")\n",
    "box(pos=vector(-1,0,0), color=color.cyan)\n",
    "box(pos=vector(1,-1,0), color=color.green)\n",
    "arrow(pos=vector(-1,-1.3,0), color=color.orange)\n",
    "cone(pos=vector(2,0,0), axis=vector(0,1,-.3), color=color.blue, size=vector(2,1,1))\n",
    "sphere(pos=vector(-1.5,1.5,0), color=color.white, size=.4*vector(3,2,1))\n",
    "square = curve(color=color.yellow, radius=.05)\n",
    "square.append(vector(0,0,0))\n",
    "square.append(pos=vector(0,1,0), color=color.cyan, radius=.1)\n",
    "square.append(vector(1,1,0))\n",
    "square.append(pos=vector(1,0,0), radius=.1)\n",
    "square.append(vector(0.3,-.3,0))\n",
    "v0 = vertex(pos=vector(-.5,1.2,0), color=color.green)\n",
    "v1 = vertex(pos=vector(1,1.2,0), color=color.red)\n",
    "v2 = vertex(pos=vector(1,2,0), color=color.blue)\n",
    "v3 = vertex(pos=vector(-.5,2,0), color=color.yellow)\n",
    "quad(v0=v0, v1=v1, v2=v2, v3=v3)\n",
    "ring(pos=vector(-0.6,-1.3,0), size=vector(0.2,1,1), color=color.green)\n",
    "\n",
    "lasthit = None\n",
    "lastpick = None\n",
    "lastcolor = None\n",
    "\n",
    "def getevent(ev):\n",
    "    global lasthit, lastpick, lastcolor\n",
    "    if lasthit != None:\n",
    "        if lastpick != None: lasthit.modify(lastpick, color=lastcolor)\n",
    "        else: lasthit.color = vector(lastcolor)\n",
    "        lasthit = lastpick = None\n",
    "        \n",
    "    hit = scene.mouse.pick\n",
    "    if hit != None:\n",
    "        lasthit = hit\n",
    "        lastpick = None\n",
    "        if isinstance(hit, curve):  # pick individual point of curve\n",
    "            lastpick = hit.segment\n",
    "            lastcolor = hit.point(lastpick)['color']\n",
    "            hit.modify(lastpick, color=color.red)\n",
    "        elif isinstance(hit, quad):\n",
    "            lasthit = hit.v0\n",
    "            lastcolor = vector(lasthit.color)\n",
    "            lasthit.color = color.red\n",
    "        else:\n",
    "            lastcolor = vector(hit.color)\n",
    "            hit.color = color.red\n",
    "\n",
    "scene.bind(\"mousedown\", getevent)"
   ]
  },
  {
   "cell_type": "code",
   "execution_count": null,
   "metadata": {
    "collapsed": true
   },
   "outputs": [],
   "source": []
  }
 ],
 "metadata": {
  "anaconda-cloud": {},
  "kernelspec": {
   "display_name": "VPython",
   "language": "python",
   "name": "vpython"
  },
  "language_info": {
   "codemirror_mode": {
    "name": "ipython",
    "version": 3
   },
   "file_extension": ".py",
   "mimetype": "text/x-python",
   "name": "python",
   "nbconvert_exporter": "python",
   "pygments_lexer": "ipython3",
   "version": "3.5.1"
  }
 },
 "nbformat": 4,
 "nbformat_minor": 0
}
