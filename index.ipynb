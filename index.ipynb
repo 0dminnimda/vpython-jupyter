{
 "cells": [
  {
   "cell_type": "markdown",
   "metadata": {
    "collapsed": false
   },
   "source": [
    "### Jupyter VPython: navigable real-time 3D animations, done simply\n",
    "##### See [vpython.org](http://vpython.org) for how to obtain and use the vpython module\n",
    "\n",
    ">Right button drag or Ctrl-drag to rotate \"camera\" to view scene.  \n",
    "To zoom, drag with middle button or Alt/Option depressed, or use scroll wheel.  \n",
    "&nbsp;&nbsp;&nbsp;&nbsp;&nbsp;&nbsp;On a two-button mouse, middle is left + right.  \n",
    "Touch screen: pinch/extend to zoom, swipe or two-finger rotate.  \n",
    "\n",
    "[Atomic solid](demos/AtomicSolid.ipynb): ball-and-spring model of a solid\n",
    "\n",
    "[Binary star](demos/BinaryStar.ipynb): two stars orbit each other\n",
    "\n",
    "[Bounce](demos/Bounce.ipynb): a ball bounces in a 3D box\n",
    "\n",
    "[Local moving lights](demos/BoxLightTest.ipynb): local lights moving around the scene\n",
    "\n",
    "[Buttons, sliders, and menus](demos/ButtonsSlidersMenus.ipynb): widgets controlling a scene\n",
    "\n",
    "[RGB-HSV colors](demos/Color-RGB-HSV.ipynb): RGB <-> HSV color conversions\n",
    "\n",
    "[Dipole electric field](demos/DipoleElectricField.ipynb): the electric field of a dipole (+ and - charges)\n",
    "\n",
    "[Double pendulum](demos/DoublePendulum.ipynb): a double pendulum shows chaotic motion\n",
    "\n",
    "[Live graphs](demos/Graphs.ipynb): incremental graphing; mouse over the graph with crosshairs\n",
    "\n",
    "[Gyroscope](demos/Gyroscope.ipynb): a gyroscope precessing and nutting on a pedestal\n",
    "\n",
    "[Gyroscope-suspended](demos/Gyroscope-Suspended.ipynb): a gyroscope suspended from a spring\n",
    "\n",
    "[Hard-sphere gas](demos/HardSphereGas.ipynb): a gas of colliding hard spheres, with graph of speed distribution\n",
    "\n",
    "[Lorenz function](demos/Lorenz.ipynb): the Lorenz function\n",
    "\n",
    "[Mouse dragging](demos/MouseDrag.ipynb): drag objects with the mouse\n",
    "\n",
    "[Mouse picking](demos/MousePicking.ipynb): click on an object to change its color; see [technical details](http://www.glowscript.org/docs/GlowScriptDocs/technical.html)\n",
    "\n",
    "[Rotating boxes](demos/RotatingBoxes.ipynb): 1000 rotating boxes; there are plans to increase the speed significantly\n",
    "\n",
    "[Rug](demos/Rug.ipynb): a wave moves along a Navajo rug\n",
    "\n",
    "[Stars](demos/Stars.ipynb): 20 stars interacting with each other gravitationally\n",
    "\n",
    "[Surreal Stonehenge](demos/Stonehenge.ipynb): fly through a surreal scene\n",
    "\n",
    "[Textures](demos/Textures.ipynb): textures currently supported by Jupyter VPython\n",
    "\n",
    "[Transparency](demos/Transparency.ipynb): true pixel-level transparency; see [technical details](http://www.glowscript.org/docs/GlowScriptDocs/technical.html)\n",
    "\n",
    "[VPython objects](demos/VPythonObjects.ipynb): examples of most of the VPython objects"
   ]
  },
  {
   "cell_type": "code",
   "execution_count": null,
   "metadata": {
    "collapsed": true
   },
   "outputs": [],
   "source": []
  },
  {
   "cell_type": "code",
   "execution_count": null,
   "metadata": {
    "collapsed": true
   },
   "outputs": [],
   "source": []
  }
 ],
 "metadata": {
  "kernelspec": {
   "display_name": "Python 3",
   "language": "python",
   "name": "python3"
  },
  "language_info": {
   "codemirror_mode": {
    "name": "ipython",
    "version": 3
   },
   "file_extension": ".py",
   "mimetype": "text/x-python",
   "name": "python",
   "nbconvert_exporter": "python",
   "pygments_lexer": "ipython3",
   "version": "3.5.1"
  }
 },
 "nbformat": 4,
 "nbformat_minor": 0
}
